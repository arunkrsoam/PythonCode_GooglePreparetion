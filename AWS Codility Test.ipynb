{
 "cells": [
  {
   "cell_type": "code",
   "execution_count": null,
   "metadata": {},
   "outputs": [],
   "source": [
    "# Creating a function to check the available option for 4 members of the family\n",
    "# N =2 is number of row and S is a string for reserved seats eg.: '1A 2F 1C'\n",
    "# Created by Arun Kumar \n",
    "# Date: 11th May 2019 2AM, Dublin Ireland\n",
    "\n",
    "def solution(N,S):\n",
    "    S=S.split()\n",
    "    M=0\n",
    "    for item in range(N):\n",
    "        \n",
    "        # ABC - Checking available seat in first three seats\n",
    "        result = any(elem ==str(item+1)+'B' or elem ==str(item+1)+'C' or elem ==str(item+1)+'H' for elem in S)\n",
    "        if result == False:\n",
    "            M=M+1# #DEFG - Checking available seat option in next four seats\n",
    "        result = any(elem ==str(item+1)+'E' or elem ==str(item+1)+'F' for elem in S)\n",
    "        if result == False:\n",
    "            result1= any(elem ==str(item+1)+'D' or elem ==str(item+1)+'G' for elem in S)\n",
    "            if result1 == False:\n",
    "                M=M+1\n",
    "               \n",
    "    return M\n"
   ]
  },
  {
   "cell_type": "code",
   "execution_count": null,
   "metadata": {},
   "outputs": [],
   "source": [
    "#--------------------------------------\n",
    "\n",
    "#Calling Function with two rows and few reserved seats\n",
    "\n",
    "# ABC DEFG HJK\n",
    "N = 2\n",
    "S ='1A 2F 1C'\n",
    "print(\"The count is\", solution(N,S)  )\n",
    "#---------------------------------------\n",
    "#The count is 2\n",
    "\n",
    "\n",
    "#Calling Function with one row and no reserved seats\n",
    "#---------------------------------------\n",
    "# ABC DEFG HJK\n",
    "N = 1\n",
    "S =''\n",
    "print(\"The count is\", solution(N,S))\n",
    "#---------------------------------------\n",
    "#The count is 2\n",
    "#---------------------------------------"
   ]
  },
  {
   "cell_type": "code",
   "execution_count": null,
   "metadata": {},
   "outputs": [],
   "source": [
    "# you can write to stdout for debugging purposes, e.g.\n",
    "# print(\"this is a debug message\")\n",
    "import array\n",
    "def solution(A):\n",
    "    # write your code in Python 3.6\n",
    "    cnt = 0\n",
    "    for j in range(0, len(A)):\n",
    "        for k in range(j+1, len(A)):\n",
    "            if (A[j] == A[k]):\n",
    "                cnt = cnt + 1\n",
    "    return cnt\n",
    "    pass"
   ]
  },
  {
   "cell_type": "code",
   "execution_count": null,
   "metadata": {},
   "outputs": [],
   "source": [
    "#¢a = array.array('l',[3,5,6,3,3,5,7,-1234,234])\n",
    "a = [3,5,6,3,3,5,6]\n",
    "count = solution(a)\n",
    "print('pair count=' + str(count))"
   ]
  },
  {
   "cell_type": "code",
   "execution_count": null,
   "metadata": {},
   "outputs": [],
   "source": [
    "# Creating a function to check the available option for 4 members of the family\n",
    "# N =2 is number of row and S is a string for reserved seats eg.: '1A 2F 1C'\n",
    "# Created by Arun Kumar \n",
    "# Date: 11th May 2019 2AM, Dublin Ireland\n",
    "def solution(N,S):\n",
    "    S=S.split()\n",
    "    M=0\n",
    "    for item in range(N):\n",
    "    # ABC - Checking available seat in first three seats\n",
    "        \n",
    "        opt1 = False\n",
    "        opt2 = False\n",
    "        opt3 = False\n",
    "        result = any(elem ==str(item+1)+'B' or elem ==str(item+1)+'C' or elem ==str(item+1)+'D' or elem ==str(item+1)+'E' for elem in S)\n",
    "        if result == False:\n",
    "            opt1 = True\n",
    "            M=M+1# #DEFG - Checking available seat option in next four seats\n",
    "        result = any(elem ==str(item+1)+'D' or elem ==str(item+1)+'E' or elem ==str(item+1)+'F' or elem ==str(item+1)+'G' for elem in S) \n",
    "        if (result == False and opt1 == False):\n",
    "            opt2 = True\n",
    "            M=M+1\n",
    "        result = any(elem ==str(item+1)+'F' or elem ==str(item+1)+'G' or elem ==str(item+1)+'H' or elem ==str(item+1)+'J' for elem in S)\n",
    "        if result == False and opt2 == False:\n",
    "            opt3 = True\n",
    "            M=M+1\n",
    "        \n",
    "    return M"
   ]
  },
  {
   "cell_type": "code",
   "execution_count": null,
   "metadata": {},
   "outputs": [],
   "source": [
    "import numpy\n",
    "def pair(rowcount,colcount,matrix,targetvar):\n",
    "    i = -1\n",
    "    j = -1\n",
    "    for k in range(0,rowcount):\n",
    "        for m in range(0,colcount):\n",
    "            if (matrix[k,m])==targetvar:\n",
    "                i=k;j=m\n",
    "                break\n",
    "    return(i,j)\n",
    "\n",
    "\n",
    "\n",
    "    \n",
    "m=numpy.array([[-3,2,31,40],[10,33,40,660],[22,43,61,702]])\n",
    "pair(3,4,m,3),pair(3,4,m,22)\n",
    "    "
   ]
  },
  {
   "cell_type": "code",
   "execution_count": null,
   "metadata": {},
   "outputs": [],
   "source": [
    "\n",
    "\n",
    "def solution(S,N,C):\n",
    "    cc = 0\n",
    "    for i in range(1,S+1):\n",
    "        flag = False\n",
    "        cnt = 0\n",
    "        for con in C:\n",
    "            if con[0] == i or con[1] == i : \n",
    "                cnt = cnt + 1\n",
    "        print (i, cnt)\n",
    "        if cnt == 1:\n",
    "            cc = cc + 1\n",
    "        pass\n",
    "  \n",
    "    return cc\n",
    "\n",
    "# Call the function \n",
    "NoofServers = 5\n",
    "NoofConnections = 5\n",
    "connections = [[1,2],[1,3],[3,4],[1,4],[4,5]]\n",
    "solution(NoofServers,NoofConnections,connections)"
   ]
  },
  {
   "cell_type": "code",
   "execution_count": null,
   "metadata": {},
   "outputs": [],
   "source": [
    "import statistics \n",
    "from statistics import mode \n",
    "\n",
    "def most_common(List): \n",
    "    return(mode(List))\n",
    "\n",
    "List = [2, 1, 2, 2, 1, 3] \n",
    "print(most_common(List)) \n"
   ]
  },
  {
   "cell_type": "code",
   "execution_count": null,
   "metadata": {},
   "outputs": [],
   "source": [
    "# Program to find most frequent \n",
    "# element in a list \n",
    "\n",
    "from collections import Counter \n",
    "\n",
    "def most_frequent(List): \n",
    "    occurence_count = Counter(List) \n",
    "    return occurence_count.most_common(1)[0][0] \n",
    "\n",
    "List = [2, 1, 2, 2, 1, 3,1,] \n",
    "print(most_frequent(List)) \n"
   ]
  },
  {
   "cell_type": "code",
   "execution_count": null,
   "metadata": {},
   "outputs": [],
   "source": [
    "import sys\n",
    "    \n",
    "\n",
    "def main():\n",
    "    n_args = len(sys.argv)\n",
    "\n",
    "    # Check user inputs\n",
    "    if n_args != 2:\n",
    "        print(\"Wrong user input\")\n",
    "        print(\"Script writes the vegetation parameter file for the VIC model\")\n",
    "        print(\"usage: python format_veg_params.py <template raster> <land cover raster> <output veg parameter file> <land cover classification scheme>\")\n",
    "        print(\"Exiting system...\")\n",
    "        sys.exit()\n",
    "\n",
    "    else:\n",
    "        # Pass command line arguments into function        \n",
    "        function1(arg1,arg2)\n",
    "\n",
    "    return\n",
    "\n",
    "# Execute the main level program if run as standalone    \n",
    "if __name__ == \"__main__\":\n",
    "    main()"
   ]
  },
  {
   "cell_type": "code",
   "execution_count": null,
   "metadata": {},
   "outputs": [],
   "source": [
    "import random\n",
    "import math\n",
    "import numpy as np\n",
    "import matplotlib.pyplot as plt\n",
    "from sklearn.svm import SVR \n",
    "from sklearn.metrics import mean_squared_error \n",
    "score=model.score(x,y)\n",
    "print(score)\n",
    "\n",
    "mse =mean_squared_error(y, pred_y)\n",
    "print(\"Mean Squared Error:\",mse)\n",
    "\n",
    "rmse = math.sqrt(mse)\n",
    "print(\"Root Mean Squared Error:\", rmse)"
   ]
  },
  {
   "cell_type": "code",
   "execution_count": null,
   "metadata": {},
   "outputs": [],
   "source": [
    "import random\n",
    "import math\n",
    "import numpy as np\n",
    "import matplotlib.pyplot as plt\n",
    "from sklearn.svm import SVR \n",
    "from sklearn.metrics import mean_squared_error \n",
    "\n",
    "random.seed(123)\n",
    "def getData(N):\n",
    "    x,y =[],[]\n",
    "     for i in range(N):  \n",
    "        a = i/10+random.uniform(-1,1)\n",
    "        yy =math.sin(a)+3+random.uniform(-1,1)\n",
    "        x.append([a])\n",
    "        y.append([yy])\n",
    "return np.array(x), np.array(y)\n",
    "\n",
    "x,y=getData(200)\n",
    "model = SVR()\n",
    "print(model)\n",
    "\n",
    "model.fit(x,y)\n",
    "pred_y = model.predict(x)\n",
    "for yo, yp in zip(y[1:15,:], pred_y[1:15]):\n",
    "     print(yo,yp)\n",
    "\n",
    "x_ax=range(200)\n",
    "plt.scatter(x_ax, y, s=5, color=\"blue\", label=\"original\")\n",
    "plt.plot(x_ax, pred_y, lw=1.5, color=\"red\", label=\"predicted\")\n",
    "plt.legend()\n",
    "plt.show()\n",
    "\n",
    "score=model.score(x,y)\n",
    "print(score)\n",
    "\n",
    "mse =mean_squared_error(y, pred_y)\n",
    "print(\"Mean Squared Error:\",mse)\n",
    "\n",
    "rmse = math.sqrt(mse)\n",
    "print(\"Root Mean Squared Error:\", rmse)"
   ]
  },
  {
   "cell_type": "markdown",
   "metadata": {},
   "source": [
    "# Truata Interview Questions\n",
    "In an integer array, what is the solution to identifying the most repeating numbers?\n",
    "For example:\n",
    "\n",
    "[1,1,2] return [1]\n",
    "\n",
    "[1,2,2] return [2]\n",
    "\n",
    "[1,1,2,2] return [1,2]\n",
    "\n",
    "[1,2,3,4] return []"
   ]
  },
  {
   "cell_type": "code",
   "execution_count": null,
   "metadata": {},
   "outputs": [],
   "source": [
    "# It takes 88 ms\n",
    "def repeatint(lst):\n",
    "    out_lst =[];\n",
    "    for i in range(0,len(lst)):\n",
    "        if lst[i] in lst[i+1:len(lst)]:\n",
    "            if not lst[i] in out_lst:\n",
    "                out_lst.append(lst[i])\n",
    "            #print(out_lst)       \n",
    "    return out_lst"
   ]
  },
  {
   "cell_type": "code",
   "execution_count": null,
   "metadata": {},
   "outputs": [],
   "source": [
    "# It takes 78 ms\n",
    "def repeatint1(lst):\n",
    "    out_lst =[]\n",
    "    for x in lst:\n",
    "        if lst.count(x) > 1: \n",
    "            if  x not in out_lst:\n",
    "                out_lst.append(x)\n",
    "    return out_lst"
   ]
  },
  {
   "cell_type": "code",
   "execution_count": null,
   "metadata": {},
   "outputs": [],
   "source": []
  },
  {
   "cell_type": "code",
   "execution_count": null,
   "metadata": {},
   "outputs": [],
   "source": [
    "# It takes 101 ms\n",
    "import collections\n",
    "def repeatint2(lst):\n",
    "    return [item for item, count in collections.Counter(lst).items() if count > 1]\n",
    "\n",
    "#repeatint([1,1,2])\n",
    "#repeatint([1,2,2])\n",
    "repeatint1([1,1,2,2,2,1])\n",
    "#repeatint([1,2,3,4])"
   ]
  },
  {
   "cell_type": "code",
   "execution_count": null,
   "metadata": {},
   "outputs": [],
   "source": [
    "#repeatint([1,1,2])\n",
    "#repeatint([1,2,2])\n",
    "repeatint1([1,1,2,2,2,1])\n",
    "#repeatint([1,2,3,4])"
   ]
  },
  {
   "cell_type": "code",
   "execution_count": null,
   "metadata": {},
   "outputs": [],
   "source": [
    "# Check how much time it took to be executed\n",
    "import datetime\n",
    "start = datetime.datetime.now()\n",
    "repeatint1([1,1,2,2,2,1])\n",
    "finish = datetime.datetime.now()\n",
    "print(finish-start)"
   ]
  },
  {
   "cell_type": "code",
   "execution_count": null,
   "metadata": {},
   "outputs": [],
   "source": [
    "x = input(\"something:\")"
   ]
  },
  {
   "cell_type": "markdown",
   "metadata": {},
   "source": [
    "### Try Catch "
   ]
  },
  {
   "cell_type": "code",
   "execution_count": null,
   "metadata": {},
   "outputs": [],
   "source": [
    "import sys\n",
    "\n",
    "try:\n",
    "    fh = open(\"testfile\", \"w\")\n",
    "    fh.write(\"This is my test file for exception handling!!\")\n",
    "except IOError:\n",
    "    print (\"Error: can\\'t find file or read data\")\n",
    "else:\n",
    "    print (\"Written content in the file successfully\")\n",
    "    fh.close()\n",
    "    \n",
    "try:\n",
    "    fh = open(\"testfile\", \"w\")\n",
    "    try:\n",
    "        fh.write(\"This is my test file for exception handling!!\")\n",
    "    finally:\n",
    "        print (\"Going to close the file\")\n",
    "        fh.close()\n",
    "except IOError:\n",
    "    print (\"Error: can\\'t find file or read data\")"
   ]
  },
  {
   "cell_type": "markdown",
   "metadata": {},
   "source": [
    "#### User-Defined Exceptions"
   ]
  },
  {
   "cell_type": "code",
   "execution_count": null,
   "metadata": {},
   "outputs": [],
   "source": [
    "class Networkerror(RuntimeError):\n",
    "    def __init__(self, arg):\n",
    "        self.args = arg\n",
    "        \n",
    "try:\n",
    "    raise Networkerror(\"Bad hostname\")\n",
    "except Networkerror,e:\n",
    "    print e.args"
   ]
  },
  {
   "cell_type": "code",
   "execution_count": null,
   "metadata": {},
   "outputs": [],
   "source": [
    "list = [1,2,3,4]\n",
    "it = iter(list) # this builds an iterator object\n",
    "#print(next(it)) #prints next available element in iterator\n",
    "#Iterator object can be traversed using regular for statement\n",
    "\n",
    "for x in it:\n",
    "    print(x , end = \" \")\n",
    "#or using next() function"
   ]
  },
  {
   "cell_type": "markdown",
   "metadata": {},
   "source": [
    "### While Loop  with exception"
   ]
  },
  {
   "cell_type": "code",
   "execution_count": null,
   "metadata": {},
   "outputs": [],
   "source": [
    "import sys\n",
    "\n",
    "while True:\n",
    "    try:\n",
    "        print(next(it))\n",
    "    except StopIteration:\n",
    "        sys.exit() #you have to import sys module for this \" \")"
   ]
  },
  {
   "cell_type": "code",
   "execution_count": null,
   "metadata": {},
   "outputs": [],
   "source": [
    "import sys\n",
    "def fibonacci(n): #generator function\n",
    "    a, b, counter = 0, 1, 0\n",
    "    while True:\n",
    "        if (counter > n): \n",
    "            return\n",
    "        yield a\n",
    "        a, b = b, a + b\n",
    "        counter += 1\n",
    "        \n",
    "f = fibonacci(10) #f is iterator object\n",
    "\n",
    "while True:\n",
    "    try:\n",
    "        print (next(f), end=\" \")\n",
    "    except StopIteration:\n",
    "        sys.exit()"
   ]
  },
  {
   "cell_type": "markdown",
   "metadata": {},
   "source": [
    "#### Basic number functions"
   ]
  },
  {
   "cell_type": "code",
   "execution_count": null,
   "metadata": {},
   "outputs": [],
   "source": [
    "import math\n",
    "x = 7\n",
    "abs(x),pow(x,2),math.modf(100.34)"
   ]
  },
  {
   "cell_type": "code",
   "execution_count": null,
   "metadata": {},
   "outputs": [],
   "source": [
    "import random\n",
    "random.uniform(1,2)"
   ]
  },
  {
   "cell_type": "code",
   "execution_count": null,
   "metadata": {},
   "outputs": [],
   "source": [
    "list = [20, 16, 10, 5];\n",
    "random.shuffle(list)\n",
    "list"
   ]
  },
  {
   "cell_type": "markdown",
   "metadata": {},
   "source": [
    "### Date Time \n",
    "date Class\n",
    "\n",
    "time Class\n",
    "\n",
    "datetime Class\n",
    "\n",
    "timedelta Class"
   ]
  },
  {
   "cell_type": "code",
   "execution_count": null,
   "metadata": {},
   "outputs": [],
   "source": [
    "import time\n",
    "import warnings\n",
    "\n",
    "print(time.localtime(time.time()))\n",
    "localtime = time.asctime( time.localtime(time.time()) )\n",
    "print(localtime)\n",
    "print(\"Current Time:\",time.clock())\n",
    "print (\"ctime : \", time.ctime("
   ]
  },
  {
   "cell_type": "code",
   "execution_count": null,
   "metadata": {},
   "outputs": [],
   "source": [
    "\n",
    "from datetime import time\n",
    "from datetime import datetime\n",
    "a = time(10,34,56)\n",
    "print(datetime.now())\n",
    "print(\"hour =\", a.hour)\n",
    "print(\"minute =\", a.minute)\n",
    "print(\"second =\", a.second)\n",
    "print(\"microsecond =\", a.microsecond)"
   ]
  },
  {
   "cell_type": "code",
   "execution_count": null,
   "metadata": {},
   "outputs": [],
   "source": [
    "time.localtime().tm_year, \\\n",
    "time.localtime().tm_mon ,time.localtime().tm_mday"
   ]
  },
  {
   "cell_type": "markdown",
   "metadata": {},
   "source": [
    "### Calendar"
   ]
  },
  {
   "cell_type": "code",
   "execution_count": null,
   "metadata": {},
   "outputs": [],
   "source": [
    "import calendar\n",
    "cal = calendar.month(2020,1)\n",
    "print (\"Here is the calendar:\")\n",
    "print (cal)"
   ]
  },
  {
   "cell_type": "code",
   "execution_count": null,
   "metadata": {},
   "outputs": [],
   "source": [
    "import datetime\n",
    "from datetime import date\n",
    "datetime_object = datetime.datetime.now()\n",
    "print(datetime_object)\n",
    "date_object = datetime.date.today()\n",
    "print(date_object)\n",
    "\n",
    "#print(dir(datetime))\n",
    "\n",
    "today = date.today() \n",
    "print(\"Date: \",today)\n",
    "print(\"Current year:\", today.year)\n",
    "print(\"Current month:\", today.month)\n",
    "print(\"Current day:\", today.day)"
   ]
  },
  {
   "cell_type": "markdown",
   "metadata": {},
   "source": [
    "### Format the date\n",
    "\n",
    "%b: Returns the first three characters of the month name. In our example, it returned \"Sep\"\n",
    "\n",
    "%d: Returns day of the month, from 1 to 31. In our example, it returned \"15\".\n",
    "\n",
    "%Y: Returns the year in four-digit format. In our example, it returned \"2018\".\n",
    "\n",
    "%H: Returns the hour. In our example, it returned \"00\".\n",
    "\n",
    "%M: Returns the minute, from 00 to 59. In our example, it returned \"00\".\n",
    "\n",
    "%S: Returns the second, from 00 to 59. In our example, it returned \"00\".\n"
   ]
  },
  {
   "cell_type": "code",
   "execution_count": null,
   "metadata": {},
   "outputs": [],
   "source": [
    "import datetime\n",
    "\n",
    "x = sort arr(2018, 9, 15, 12, 45, 35)\n",
    "\n",
    "print(x.strftime(\"%b %d %Y %H:%M:%S\"))"
   ]
  },
  {
   "cell_type": "markdown",
   "metadata": {},
   "source": [
    "#### Using OS library to access file"
   ]
  },
  {
   "cell_type": "code",
   "execution_count": null,
   "metadata": {},
   "outputs": [],
   "source": [
    "import os \n",
    "#os.mkdir(\"TempDir\")\n",
    "filename = input(\"Enter File name with exten :\")\n",
    "# Open a file\n",
    "fo = open(filename, \"wb\")\n"
   ]
  },
  {
   "cell_type": "code",
   "execution_count": null,
   "metadata": {},
   "outputs": [],
   "source": [
    "\n",
    "# Delete file test2.txt\n",
    "os.remove(\"text2.txt\")\n",
    "# Rename a file from test1.txt to test2.txt\n",
    "os.rename( \"test1.txt\", \"test2.txt\" )\n",
    "\n",
    "# Open a file\n",
    "fo = open(\"foo.txt\", \"r+\")\n",
    "str = fo.read(10)\n",
    "print (\"Read String is : \", str)\n",
    "\n",
    "# Check current position\n",
    "position = fo.tell()\n",
    "\n",
    "# Reposition pointer at the beginning once again\n",
    "position = fo.seek(0, 0)\n",
    "# To get more details\n",
    "# https://www.tutorialspoint.com/python3/python_files_io.htm "
   ]
  },
  {
   "cell_type": "markdown",
   "metadata": {},
   "source": [
    "### Class in python"
   ]
  },
  {
   "cell_type": "code",
   "execution_count": null,
   "metadata": {},
   "outputs": [],
   "source": [
    "class Cars:\n",
    "\n",
    "    def __init__(self, model):\n",
    "        self.model = model\n",
    "\n",
    "    def change_model(self, new_model):\n",
    "        self.model = new_model"
   ]
  },
  {
   "cell_type": "code",
   "execution_count": null,
   "metadata": {},
   "outputs": [],
   "source": [
    "Maruti = Cars(\"Maruti Suziki\")\n",
    "Verna = Cars(\"Verna 1.6 DDT\")"
   ]
  },
  {
   "cell_type": "code",
   "execution_count": null,
   "metadata": {},
   "outputs": [],
   "source": [
    "print(Maruti.model)\n",
    "print(Verna.model)\n",
    "Verna.change_model(\"Verna 1.4 DTSI\")\n",
    "print(Verna.model)"
   ]
  },
  {
   "cell_type": "markdown",
   "metadata": {},
   "source": [
    "#### Functions as first class objects in python\n",
    "\n",
    "in the following code, you can assign the function hello_friend, and then the variable will be executed as a function"
   ]
  },
  {
   "cell_type": "code",
   "execution_count": null,
   "metadata": {},
   "outputs": [],
   "source": [
    "def hello_friend(h):\n",
    "    def friend(f):\n",
    "        print(h,f)\n",
    "    return friend\n",
    "\n",
    "a = hello_friend\n",
    "w = a(\"Hello\")\n",
    "w(\"Soam ji\")\n"
   ]
  },
  {
   "cell_type": "markdown",
   "metadata": {},
   "source": [
    "### HackerRank challanges"
   ]
  },
  {
   "cell_type": "code",
   "execution_count": null,
   "metadata": {},
   "outputs": [],
   "source": [
    "# HackerRank challange \n",
    "1,2,7,69 - yes,No,No,Yes\n",
    "\n",
    "import math\n",
    "\n",
    "def is_smart_number(num):\n",
    "    val = int(math.sqrt(num))\n",
    "    if num / val <=num: # Did change in this line\n",
    "        return True\n",
    "\n",
    "for _ in range(int(input())):\n",
    "    num = int(input())\n",
    "    ans = is_smart_number(num)\n",
    "    if ans:\n",
    "        print(\"YES\")\n",
    "    else:\n",
    "        print(\"NO\")\n"
   ]
  },
  {
   "cell_type": "markdown",
   "metadata": {},
   "source": [
    "### Use of lambda function\n"
   ]
  },
  {
   "cell_type": "code",
   "execution_count": null,
   "metadata": {},
   "outputs": [],
   "source": [
    "# Sqare of a number\n",
    "sq =lambda num:num**2\n",
    "sq(4)"
   ]
  },
  {
   "cell_type": "code",
   "execution_count": null,
   "metadata": {},
   "outputs": [],
   "source": [
    "import tensorflow as tf\n",
    "print (tf.__version__)\n",
    "print ('Hello world')"
   ]
  },
  {
   "cell_type": "markdown",
   "metadata": {},
   "source": [
    "#### Parse a text file in key value pair /dictionary "
   ]
  },
  {
   "cell_type": "code",
   "execution_count": null,
   "metadata": {},
   "outputs": [],
   "source": [
    "\n",
    "from urllib.request import urlopen\n",
    "url = 'https://raw.githubusercontent.com/sedeh/github.io/master/resources/states.txt'\n",
    "response = urlopen(url)\n",
    "lines = response.readlines()\n",
    "state_names_dict = {}\n",
    "for line in lines:\n",
    "    state_code, state_name = line.decode().split(\":\")\n",
    "    state_names_dict[state_code.strip()] = state_name.strip()"
   ]
  },
  {
   "cell_type": "code",
   "execution_count": null,
   "metadata": {},
   "outputs": [],
   "source": [
    "f = open(\"test.txt\", 'r')\n",
    "answer = {}\n",
    "value =\"\"\n",
    "key = \"\"\n",
    "bol = True\n",
    "for line in f:\n",
    "    if line[0:1]!='#': \n",
    "        if line.find(\":\") != -1 and line.find(\"https\") == -1 and line.find(\"dependencies\") == -1:\n",
    "            key,val = line.split(\":\")\n",
    "            value =\"\"\n",
    "        else:\n",
    "            value = value + line\n",
    "            \n",
    "        answer[key.strip()] = value.strip().replace('\\n',' ')\n",
    "            \n",
    "    \n",
    "f.close()\n",
    "answer"
   ]
  },
  {
   "cell_type": "code",
   "execution_count": null,
   "metadata": {},
   "outputs": [],
   "source": [
    "import math\n",
    "import os\n",
    "import random\n",
    "import re\n",
    "import sys\n",
    "\n",
    "#\n",
    "# Complete the 'diagonalDifference' function below.\n",
    "#\n",
    "# The function is expected to return an INTEGER.\n",
    "# The function accepts 2D_INTEGER_ARRAY arr as parameter.\n",
    "#\n",
    "\n",
    "def diagonalDifference(arr):\n",
    "    # Write your code here\n",
    "    lrd = rld =0\n",
    "    ln =len(arr)\n",
    "    j=0\n",
    "    for i in range(0,ln):\n",
    "        lrd = lrd+ arr[i][j]\n",
    "        rld = rld+ arr[i][ln-i-1]\n",
    "        j = j+1\n",
    "    return(abs(lrd-rld))\n",
    "\n",
    "n = int(input().strip())\n",
    "\n",
    "arr = []\n",
    "\n",
    "for _ in range(n):\n",
    "    arr.append(list(map(int, input().rstrip().split())))\n",
    "\n",
    "result = diagonalDifference(arr)\n",
    "\n",
    "print(result)"
   ]
  },
  {
   "cell_type": "code",
   "execution_count": null,
   "metadata": {},
   "outputs": [],
   "source": [
    "import math\n",
    "import os\n",
    "import random\n",
    "import re\n",
    "import sys\n",
    "def plusMinus(arr):\n",
    "    p =n=z=0;\n",
    "    ln = len(arr)\n",
    "    outarr =[]\n",
    "    for i in range(0,ln):\n",
    "        if arr[i]>0:\n",
    "            p=p+1\n",
    "        elif arr[i]<0:\n",
    "            n=n+1\n",
    "        else:\n",
    "            z=z+1\n",
    " \n",
    "    print(format(p/ln,'.6f'))\n",
    " \n",
    "    print(format(n/ln,'.6f'))\n",
    " \n",
    "    print(format(z/ln,'.6f'))\n",
    "# Calling function\n",
    "\n",
    "if __name__ == '__main__':\n",
    "    n = int(input())\n",
    "\n",
    "    arr = list(map(int, input().rstrip().split()))\n",
    "\n",
    "    plusMinus(arr)"
   ]
  },
  {
   "cell_type": "code",
   "execution_count": null,
   "metadata": {},
   "outputs": [],
   "source": []
  },
  {
   "cell_type": "code",
   "execution_count": null,
   "metadata": {},
   "outputs": [],
   "source": [
    "#!/bin/python3\n",
    "\n",
    "import math\n",
    "import os\n",
    "import random\n",
    "import re\n",
    "import sys\n",
    "\n",
    "# Complete the staircase function below.\n",
    "def staircase(n):\n",
    "\n",
    "    for i in range(0,n):\n",
    "        print(' ' * (n  - i) + '#' * i)\n",
    "# Calling function\n",
    "if __name__ == '__main__':\n",
    "    n = int(input())\n",
    "    staircase(n)"
   ]
  },
  {
   "cell_type": "code",
   "execution_count": null,
   "metadata": {},
   "outputs": [],
   "source": [
    "import math\n",
    "import os\n",
    "import random\n",
    "import re\n",
    "import sys\n",
    "\n",
    "# Complete the miniMaxSum function below.\n",
    "def miniMaxSum(arr):\n",
    "    ln=len(arr)\n",
    "    s1=s2=0\n",
    "    arr.sort()\n",
    "    for i in range(1,ln):\n",
    "        s1=s1+arr[i-1]\n",
    "        s2=s2+arr[i]\n",
    "    print(s1,s2)\n",
    "\n",
    "\n",
    "if __name__ == '__main__':\n",
    "    arr = list(map(int, input().rstrip().split()))\n",
    "\n",
    "    miniMaxSum(arr)"
   ]
  },
  {
   "cell_type": "code",
   "execution_count": null,
   "metadata": {},
   "outputs": [],
   "source": [
    "# Complete the matrixRotation function below.\n",
    "def matrixRotation(matrix, r):\n",
    "    m = len(matrix)  \n",
    "    n = len(matrix[0])\n",
    "    # number of square m/2\n",
    "    \n",
    "    for i in range(0, int(m/2): \n",
    "        for j in range(i, n-1):   \n",
    "            # store first value in tmp  \n",
    "            tmp = matrix[i][j] \n",
    "            # move values from right to left \n",
    "            matrix[i][j] = matrix[j][m-1-i] \n",
    "  \n",
    "            # move values from bottom to right \n",
    "            matrix[j][m-1-i] = matrix[m-1-i][m-1-j] \n",
    "  \n",
    "            # move values from left to bottom \n",
    "            matrix[m-1-i][m-1-i] = matrix[m-1-j][i] \n",
    "  \n",
    "            # assign temp to left \n",
    "            matrix[m-1-j][i] = temp \n",
    "    print(matrix)"
   ]
  },
  {
   "cell_type": "code",
   "execution_count": null,
   "metadata": {},
   "outputs": [],
   "source": [
    "for i in range(0, m/2): \n",
    "        for j in range(i, m-i-1):   \n",
    "            # store first value in tmp  \n",
    "            tmp = matrix[i][j] \n",
    "            # move values from right to left \n",
    "            matrix[i][j] = matrix[j][m-1-i] \n",
    "  \n",
    "            # move values from bottom to right \n",
    "            matrix[j][m-1-i] = matrix[m-1-i][m-1-j] \n",
    "  \n",
    "            # move values from left to bottom \n",
    "            matrix[m-1-i][m-1-i] = matrix[m-1-j][i] \n",
    "  \n",
    "            # assign temp to left \n",
    "            mat[m-1-j][i] = temp "
   ]
  },
  {
   "cell_type": "code",
   "execution_count": null,
   "metadata": {},
   "outputs": [],
   "source": [
    "#!/bin/python3\n",
    "\n",
    "import math\n",
    "import os\n",
    "import random\n",
    "import re\n",
    "import sys\n",
    "\n",
    "        \n",
    "if __name__ == '__main__':\n",
    "    mnr = input().rstrip().split()\n",
    "\n",
    "    m = int(mnr[0])\n",
    "\n",
    "    n = int(mnr[1])\n",
    "\n",
    "    r = int(mnr[2])\n",
    "\n",
    "    matrix = []\n",
    "\n",
    "    for _ in range(m):\n",
    "        matrix.append(list(map(int, input().rstrip().split())))\n",
    "\n",
    "    matrixRotation(matrix, r)\n"
   ]
  },
  {
   "cell_type": "code",
   "execution_count": null,
   "metadata": {},
   "outputs": [],
   "source": [
    "\n",
    "def commonfactor(ar):\n",
    "    a= ar[0]\n",
    "    b=ar[1]\n",
    "    count=0\n",
    "    for i in range (1,min(a,b)):\n",
    "        if a%i==0 and b%i==0:\n",
    "            count=count+1\n",
    "    print(count)   \n",
    "# Write your code here\n",
    "if __name__ == '__main__':\n",
    "    arr = list(map(int, input().rstrip().split()))\n",
    "    commonfactor(arr)"
   ]
  },
  {
   "cell_type": "code",
   "execution_count": null,
   "metadata": {},
   "outputs": [],
   "source": [
    "def updateArray(ar):\n",
    "    ar.sort()\n",
    "    ln =len(ar)\n",
    "    for i in range (0,ln):\n",
    "        print(ar)\n",
    "        print(ar[round(ln/2)])\n",
    "    "
   ]
  },
  {
   "cell_type": "code",
   "execution_count": null,
   "metadata": {},
   "outputs": [],
   "source": [
    "import numpy as np\n",
    "def updateArray(ar):\n",
    "    arr= ar\n",
    "    arr.sort()\n",
    "    ln =len(ar)\n",
    "    print(np.sum(ar))\n",
    "    for i in range(0,ln):\n",
    "        if arr[i]*ln > np.sum(ar):\n",
    "            print( arr[i])\n",
    "            break \n",
    "    \n",
    "        \n",
    "# Write your code here\n",
    "if __name__ == '__main__':\n",
    "    n = int(input())\n",
    "\n",
    "    arr = list(map(int, input().rstrip().split()))\n",
    "    updateArray(arr)"
   ]
  },
  {
   "cell_type": "code",
   "execution_count": null,
   "metadata": {},
   "outputs": [],
   "source": [
    "def calculate_purchasing_plan(total_days, sellers):\n",
    "    AvailableLoags = 10\n",
    "    maxRetaingdays = 30\n",
    "    requiredLoafs = total_days -AvailableLoags\n",
    "    output =[]\n",
    "    i=0\n",
    "    ln =len(sellers)\n",
    "    while (AvailableLoags <=total_days):\n",
    "        if sellers[i][1] > sellers[i+1][1] and AvailableLoags <= requiredLoafs:\n",
    "            output.append(sellers[i+1][0]-AvailableLoags)\n",
    "            AvailableLoags = AvailableLoags + (sellers[i+1][0] - AvailableLoags)\n",
    "        elif maxRetaingdays <= (total_days-AvailableLoags):\n",
    "                output.append (maxRetaingdays)\n",
    "                AvailableLoags = AvailableLoags + maxRetaingdays\n",
    "        else:\n",
    "                output.append (total_days-AvailableLoags)\n",
    "                AvailableLoags = AvailableLoags + (total_days-AvailableLoags)\n",
    "        i=i+1\n",
    "        if i == ln-1 and total_days-AvailableLoags >=0 :\n",
    "            output.append(total_days-AvailableLoags)\n",
    "            AvailableLoags = AvailableLoags + (total_days-AvailableLoags)\n",
    "            break\n",
    "    print(\"output:\", output)\n"
   ]
  },
  {
   "cell_type": "code",
   "execution_count": null,
   "metadata": {
    "scrolled": true
   },
   "outputs": [],
   "source": [
    "calculate_purchasing_plan(60, [(10,200), (15,100), (35,500), (50,30)])"
   ]
  },
  {
   "cell_type": "code",
   "execution_count": null,
   "metadata": {},
   "outputs": [],
   "source": [
    "calculate_purchasing_plan(60, [(10,50), (20,30), (45,200), (55,10)])"
   ]
  },
  {
   "cell_type": "code",
   "execution_count": null,
   "metadata": {},
   "outputs": [],
   "source": [
    "calculate_purchasing_plan(60, [(10,50), (15,300), (40,200), (55,10)])"
   ]
  },
  {
   "cell_type": "code",
   "execution_count": null,
   "metadata": {},
   "outputs": [],
   "source": [
    "calculate_purchasing_plan(60, [(10,50), (15,30), (40,200), (55,1000)])"
   ]
  },
  {
   "cell_type": "code",
   "execution_count": null,
   "metadata": {},
   "outputs": [],
   "source": [
    "def calculate_purchasing_plan(total_days, sellers):\n",
    "    AvaiableLoafs = 10\n",
    "    maxRetaingdays = 30\n",
    "    requiredLoafs = total_days -AvaiableLoafs\n",
    "    output =[]\n",
    "    ln =len(sellers)\n",
    "    i = 0\n",
    "    while (AvaiableLoafs <=60):\n",
    "        if sellers[i][1] > sellers[i+1][1]:\n",
    "            output.append(sellers[i+1][0]-AvaiableLoafs)\n",
    "            AvaiableLoafs = AvaiableLoafs + (sellers[i+1][0] - AvaiableLoafs)          \n",
    "        else:\n",
    "            output.append (maxRetaingdays)\n",
    "            AvaiableLoafs = AvaiableLoafs + maxRetaingdays\n",
    "  \n",
    "        i=i+1\n",
    "        if i == ln-1 and AvaiableLoafs < requiredLoafs:\n",
    "            output.append(total_days-AvaiableLoafs)\n",
    "            break\n",
    "    print(\"output:\", output)\n"
   ]
  },
  {
   "cell_type": "code",
   "execution_count": null,
   "metadata": {},
   "outputs": [],
   "source": [
    "calculate_purchasing_plan(60, [(10,200), (15,100), (35,500), (50,30)])"
   ]
  },
  {
   "cell_type": "code",
   "execution_count": null,
   "metadata": {},
   "outputs": [],
   "source": [
    "def relu(input):\n",
    "    '''Define your relu activation function here'''\n",
    "    # Calculate the value for the output of the relu function: output\n",
    "    output = max(0, input)\n",
    "    \n",
    "    # Return the value just calculated\n",
    "    return(output)\n",
    "\n",
    "# Calculate node 0 value: node_0_output\n",
    "node_0_input = (input_data * weights['node_0']).sum()\n",
    "node_0_output = relu(node_0_input)\n",
    "\n",
    "# Calculate node 1 value: node_1_output\n",
    "node_1_input = (input_data * weights['node_1']).sum()\n",
    "node_1_output = relu(node_1_input)\n",
    "\n",
    "# Put node values into array: hidden_layer_outputs\n",
    "hidden_layer_outputs = np.array([node_0_output, node_1_output])\n",
    "\n",
    "# Calculate model output (do not apply relu)\n",
    "model_output = (hidden_layer_outputs * weights['output']).sum()\n",
    "\n",
    "# Print model output\n",
    "print(model_output)"
   ]
  },
  {
   "cell_type": "code",
   "execution_count": null,
   "metadata": {},
   "outputs": [],
   "source": [
    "# Define predict_with_network()\n",
    "def predict_with_network(input_data_row, weights):\n",
    "\n",
    "    # Calculate node 0 value\n",
    "    node_0_input = (input_data_row * weights['node_0']).sum()\n",
    "    node_0_output = relu(node_0_input)\n",
    "\n",
    "    # Calculate node 1 value\n",
    "    node_1_input = (input_data_row * weights['node_1']).sum()\n",
    "    node_1_output = relu(node_1_input)\n",
    "\n",
    "    # Put node values into array: hidden_layer_outputs\n",
    "    hidden_layer_outputs = np.array([node_0_output, node_1_output])\n",
    "    \n",
    "    # Calculate model output\n",
    "    input_to_final_layer = (hidden_layer_outputs * weights['output']).sum()\n",
    "    model_output = relu(input_to_final_layer)\n",
    "    \n",
    "    # Return model output\n",
    "    return(model_output)\n",
    "\n",
    "\n",
    "# Create empty list to store prediction results\n",
    "results = []\n",
    "for input_data_row in input_data:\n",
    "    # Append prediction to results\n",
    "    results.append(predict_with_network(input_data_row, weights))\n",
    "\n",
    "# Print results\n",
    "print(results)\n",
    "\n",
    "#neural Network gets the weights"
   ]
  },
  {
   "cell_type": "code",
   "execution_count": null,
   "metadata": {},
   "outputs": [],
   "source": [
    "def predict_with_network(input_data):\n",
    "    # Calculate node 0 in the first hidden layer\n",
    "    node_0_0_input = (input_data * weights['node_0_0']).sum()\n",
    "    node_0_0_output = relu(node_0_0_input)\n",
    "\n",
    "    # Calculate node 1 in the first hidden layer\n",
    "    node_0_1_input = (input_data * weights['node_0_1']).sum()\n",
    "    node_0_1_output = relu(node_0_1_input)\n",
    "\n",
    "    # Put node values into array: hidden_0_outputs\n",
    "    hidden_0_outputs = np.array([node_0_0_output, node_0_1_output])\n",
    "\n",
    "    # Calculate node 0 in the second hidden layer\n",
    "    node_1_0_input = (hidden_0_outputs * weights['node_1_0']).sum()\n",
    "    node_1_0_output = relu(node_1_0_input)\n",
    "\n",
    "    # Calculate node 1 in the second hidden layer\n",
    "    node_1_1_input = (hidden_0_outputs * weights['node_1_1']).sum()\n",
    "    node_1_1_output = relu(node_1_1_input)\n",
    "\n",
    "    # Put node values into array: hidden_1_outputs\n",
    "    hidden_1_outputs = np.array([node_1_0_output, node_1_1_output])\n",
    "    \n",
    "    # Calculate output here: model_output\n",
    "    model_output = (hidden_1_outputs * weights['output']).sum()\n",
    "    \n",
    "    # Return model_output\n",
    "    return(model_output)\n",
    "\n",
    "output = predict_with_network(input_data)\n",
    "print(output)\n"
   ]
  },
  {
   "cell_type": "code",
   "execution_count": null,
   "metadata": {},
   "outputs": [],
   "source": [
    "# Python program to understand range \n",
    "# this creates a list of 0 to 5 \n",
    "# integers \n",
    "  \n",
    "demo = range(6) \n",
    "  \n",
    "# print the demo \n",
    "print(demo) \n",
    "  \n",
    "# it will generate error \n",
    "print(next(demo)) "
   ]
  },
  {
   "cell_type": "code",
   "execution_count": null,
   "metadata": {},
   "outputs": [],
   "source": [
    "test_str =\"ARUN kumar SOAM\"\n",
    "res = list(filter(lambda c: c.islower(), test_str)) \n",
    "\n",
    "# printing result  \n",
    "print(\"The lowercase characters in string are : \" + str(res)) "
   ]
  },
  {
   "cell_type": "code",
   "execution_count": null,
   "metadata": {},
   "outputs": [],
   "source": [
    "# 10 Km in 43.5 mins\n",
    "# 1.61 Km =1 mile\n",
    "\n",
    "distanceKM = 10 # in Ks\n",
    "distanceML = 10/1.61\n",
    "print (distanceML,\"miles in 43.5 mins\")\n",
    "restult1 = 43.5/distanceML\n",
    "# what is your average time per mile?\n",
    "\n",
    "print(round(restult1,2),\" mins per mile\")\n",
    "\n",
    "# What is your average speed in miles per hour? \n",
    "Time_per_min = distanceML /34.5\n",
    "result = Time_per_min*60\n",
    "print(round(result,2),\" Miles per hour\")\n"
   ]
  },
  {
   "cell_type": "code",
   "execution_count": null,
   "metadata": {},
   "outputs": [],
   "source": [
    "\n",
    "def right_justify(s):\n",
    "    print(s.ljust(len(s)+70))\n",
    "    \n",
    "right_justify('allen')\n"
   ]
  },
  {
   "cell_type": "code",
   "execution_count": null,
   "metadata": {},
   "outputs": [],
   "source": [
    "def do_twice(f):\n",
    "    f()\n",
    "    f()\n",
    "def print_spam():\n",
    "    print('spam')\n",
    "    \n",
    "do_twice(print_spam)"
   ]
  },
  {
   "cell_type": "code",
   "execution_count": null,
   "metadata": {},
   "outputs": [],
   "source": [
    "def row():\n",
    "    print ('+', '----','+','----','+')\n",
    "def col():\n",
    "    print ('|', '    ','|','    ','|')\n",
    "    \n",
    "    \n",
    "def sqrfn(rfn,col):\n",
    "    rfn()\n",
    "    col()\n",
    "    col()\n",
    "    col()\n",
    "    col()\n",
    "    rfn()\n",
    "    col()\n",
    "    col()\n",
    "    col()\n",
    "    rfn()\n",
    "    \n",
    "sqrfn(row,col) \n"
   ]
  },
  {
   "cell_type": "code",
   "execution_count": null,
   "metadata": {},
   "outputs": [],
   "source": [
    "import math\n",
    "def circle(t, r):\n",
    "    circumference = 2 * math.pi * r\n",
    "    n = 50\n",
    "    length = circumference / n\n",
    "    polygon(t, n, length)\n",
    "\n",
    "circle(4,2)"
   ]
  },
  {
   "cell_type": "code",
   "execution_count": null,
   "metadata": {},
   "outputs": [],
   "source": [
    "\n",
    "def recusion(s,n):\n",
    "    if n<0 : \n",
    "        print (\"Finished!\")\n",
    "    else:\n",
    "        print(s)\n",
    "        recusion(s,n-1)\n",
    "recusion('Arun Kumar',10)        "
   ]
  },
  {
   "cell_type": "code",
   "execution_count": null,
   "metadata": {},
   "outputs": [],
   "source": [
    "s=input('What is your name?')\n",
    "print(s)"
   ]
  },
  {
   "cell_type": "code",
   "execution_count": null,
   "metadata": {},
   "outputs": [],
   "source": [
    "# Python program to find simple interest \n",
    "# Inputs : principal amount, time and rate of interest. \n",
    "\n",
    "P = input(\"Enter the principal amount:\")\n",
    "R = input(\"Enter the rate of interest:\") \n",
    "T = input(\"Enter the rate of interest:\") \n",
    "  \n",
    "# Calculates simple interest  \n",
    "SI = (float(P) * float(R) * float(T)) / 100\n",
    "  \n",
    "# Print the simple interest\n",
    "print(\"Simple interest is\", SI) \n",
    "   \n",
    "# Programmed by Navya Soam"
   ]
  },
  {
   "cell_type": "code",
   "execution_count": null,
   "metadata": {},
   "outputs": [],
   "source": [
    "# Python program to calcuate the area of rectangle\n",
    "# Inputs : length and width \n",
    "\n",
    "L = input(\"Enter the lenth of rectangle :\")\n",
    "W = input(\"Enter the width of rectangle:\") \n",
    "\n",
    "  \n",
    "# Calculates area of rectangle \n",
    "AR = (float(L) * float(W))\n",
    "  \n",
    "# Print the simple interest\n",
    "print(\"Area of rectangle  is\", AR) \n",
    "   \n",
    "# Programmed by Navya Soam"
   ]
  },
  {
   "cell_type": "code",
   "execution_count": null,
   "metadata": {},
   "outputs": [],
   "source": [
    "# Python program to check the bigger number\n",
    "# Inputs : length and width \n",
    "\n",
    "num1 = input(\"Enter a number :\")\n",
    "num2 = input(\"Enter an another number:\") \n",
    "\n",
    "# Checking which number is bigger\n",
    "if num1 > num2 :\n",
    "    print(\"Bigger number is\",num1)\n",
    "elif num1 < num2:\n",
    "    print(\"Bigger number is\",num2)\n",
    "else:\n",
    "    print(\"Both numbers are equal\")\n",
    "# Programmed by Navya Soam"
   ]
  },
  {
   "cell_type": "code",
   "execution_count": null,
   "metadata": {},
   "outputs": [],
   "source": [
    "def check_fermat(a,b,c,n):\n",
    "    if n > 2 and (a**n+b**n==c**n):\n",
    "        print(\"Holy smokes, Fermat was wrong!\")\n",
    "    else:\n",
    "        print(\"No, that doesn’t work\")\n",
    "check_fermat(1,2,4,4)"
   ]
  },
  {
   "cell_type": "code",
   "execution_count": null,
   "metadata": {},
   "outputs": [],
   "source": [
    "#By the Pythagorean theorem, the distance is:\n",
    "#distance = sqrt((x2 − x1)2 + (y2 − y1)2)\n",
    "import math\n",
    "def distance(x1,x2,y1,y2):\n",
    "    return math.sqrt((x2-x1)**2 + (y2-y1)**2)\n",
    "distance(1,2,3,4)"
   ]
  },
  {
   "cell_type": "code",
   "execution_count": null,
   "metadata": {},
   "outputs": [],
   "source": [
    "# Factoril function - n! = n(n−1)!\n",
    "\n",
    "def facto(n):\n",
    "    f=1\n",
    "    while n > 1:      \n",
    "        f = f*n\n",
    "        n=n-1\n",
    "    return(f)"
   ]
  },
  {
   "cell_type": "code",
   "execution_count": null,
   "metadata": {},
   "outputs": [],
   "source": [
    "def facto(n):\n",
    "    \n",
    "    if not isinstance(n, int):\n",
    "        print ('Factorial is only defined for integers.')\n",
    "        return None\n",
    "    elif n < 0:\n",
    "        print ('Factorial is not defined for negative integers.')\n",
    "        return None\n",
    "    elif n==0 :\n",
    "        return 1\n",
    "    else:\n",
    "        recusive = facto(n-1)\n",
    "        result=recusive*n\n",
    "    return result"
   ]
  },
  {
   "cell_type": "code",
   "execution_count": null,
   "metadata": {},
   "outputs": [],
   "source": [
    "print(facto(1.6))"
   ]
  },
  {
   "cell_type": "code",
   "execution_count": null,
   "metadata": {},
   "outputs": [],
   "source": [
    "def fibonacci (n):\n",
    "    if n == 0:\n",
    "        return 0\n",
    "    elif  n == 1:\n",
    "        return 1\n",
    "    else:\n",
    "        return fibonacci(n-1) + fibonacci(n-2)"
   ]
  },
  {
   "cell_type": "code",
   "execution_count": null,
   "metadata": {},
   "outputs": [],
   "source": [
    "fibonacci(8)"
   ]
  },
  {
   "cell_type": "code",
   "execution_count": null,
   "metadata": {},
   "outputs": [],
   "source": [
    "def factorial(n):\n",
    "    space = ' ' * (4 * n)\n",
    "    print( space, 'factorial', n)\n",
    "    if n == 0:\n",
    "        print (space, 'returning 1')\n",
    "        return 1\n",
    "    else:\n",
    "        recurse = factorial(n-1)\n",
    "        result = n * recurse\n",
    "        print (space, 'returning', result)\n",
    "        return result"
   ]
  },
  {
   "cell_type": "code",
   "execution_count": null,
   "metadata": {},
   "outputs": [],
   "source": [
    "factorial(1)"
   ]
  },
  {
   "cell_type": "code",
   "execution_count": null,
   "metadata": {},
   "outputs": [],
   "source": [
    "for i in range(0,10):\n",
    "    space = ' ' * (4 * i)\n",
    "    print(space,'Arun')"
   ]
  },
  {
   "cell_type": "code",
   "execution_count": null,
   "metadata": {},
   "outputs": [],
   "source": [
    "def ackermann(m, n):\n",
    "    if m == 0:\n",
    "        return n+1\n",
    "    if n == 0:\n",
    "        return ackermann(m-1, 1)\n",
    "    return ackermann(m-1, ackermann(m, n-1))\n",
    "\n",
    "print (ackermann(3, 4))"
   ]
  },
  {
   "cell_type": "code",
   "execution_count": null,
   "metadata": {},
   "outputs": [],
   "source": [
    "def first(word):\n",
    "    return word[0]\n",
    "def last(word):\n",
    "    return word[-1]\n",
    "def middle(word):\n",
    "    return word[1:-1]\n",
    "\n",
    "middle('')"
   ]
  },
  {
   "cell_type": "code",
   "execution_count": null,
   "metadata": {},
   "outputs": [],
   "source": [
    "def histogram(s):\n",
    "    d = {}\n",
    "    for c in s:\n",
    "        if c not in d:\n",
    "            d[c] = 1\n",
    "        else:\n",
    "            d[c] += 1\n",
    "    return d\n",
    "\n",
    "histogram(\"Arun Kumar Soam\")"
   ]
  },
  {
   "cell_type": "code",
   "execution_count": null,
   "metadata": {},
   "outputs": [],
   "source": [
    "#Here is a function that inverts a dictionary:\n",
    "def invert_dict(d):\n",
    "    inverse = dict()\n",
    "    for key in d:\n",
    "        val = d[key]\n",
    "        if val not in inverse:\n",
    "            inverse[val] = [key]\n",
    "        else:\n",
    "            inverse[val].append(key)\n",
    "    return inverse\n",
    "print(invert_dict( histogram(\"Arun Kumar Soam\")))"
   ]
  },
  {
   "cell_type": "code",
   "execution_count": null,
   "metadata": {},
   "outputs": [],
   "source": [
    "known = {0:0,1:1}\n",
    "def fibonacci(n):\n",
    "    if n in known:\n",
    "        return known[n]\n",
    "    res = fibonacci(n-1) + fibonacci(n-2)\n",
    "    known[n] = res\n",
    "    return res\n",
    "\n",
    "fibonacci(5)"
   ]
  },
  {
   "cell_type": "code",
   "execution_count": null,
   "metadata": {},
   "outputs": [],
   "source": [
    "# Touple\n",
    "\n",
    "def sort_by_length(words):\n",
    "    t = []\n",
    "    for word in words:\n",
    "        t.append((len(word), word))\n",
    "        t.sort(reverse=True)\n",
    "        res = []\n",
    "    for length, word in t:\n",
    "        res.append(word)\n",
    "    return res"
   ]
  },
  {
   "cell_type": "code",
   "execution_count": null,
   "metadata": {},
   "outputs": [],
   "source": [
    "sort_by_length(\"Arun Kumar Soam\")"
   ]
  },
  {
   "cell_type": "code",
   "execution_count": null,
   "metadata": {},
   "outputs": [],
   "source": [
    "# Excercise 13.1\n",
    "\n",
    "import string\n",
    "print (string.punctuation)"
   ]
  },
  {
   "cell_type": "code",
   "execution_count": null,
   "metadata": {},
   "outputs": [],
   "source": [
    "# Open a file\n",
    "\n",
    "import string\n",
    "fo = open(\"file.txt\", \"r+\")\n",
    "line=fo.read().replace('-','')\n",
    "words=words.strip(string.punctuation + string.whitespace)\n",
    "words = histogram(line.split(\" \"))\n",
    "\n",
    "words = collections.OrderedDict({k:int(v) for k, v in sorted(words.items(), key=lambda x: x[1],reverse=True)})\n",
    "words"
   ]
  },
  {
   "cell_type": "code",
   "execution_count": null,
   "metadata": {},
   "outputs": [],
   "source": [
    "def process_file(filename):\n",
    "    hist = {}\n",
    "    fp = open(filename)\n",
    "    for line in fp:\n",
    "        process_line(line, hist)\n",
    "    return hist\n",
    "def process_line(line, hist):\n",
    "    line = line.replace('-', ' ')\n",
    "    for word in line.split():\n",
    "        word = word.strip(string.punctuation + string.whitespace)\n",
    "        word = word.lower()\n",
    "        hist[word] = hist.get(word, 0) + 1\n",
    "hist = process_file('file.txt')\n",
    "hist"
   ]
  },
  {
   "cell_type": "code",
   "execution_count": null,
   "metadata": {},
   "outputs": [],
   "source": [
    "# Google Problem 1\n",
    "def add_one(arr):\n",
    "    carry=1\n",
    "    result=arr\n",
    "    for i in range(len(arr)-1,-1,-1):\n",
    "        tot = arr[i] + carry\n",
    "        if tot ==10:\n",
    "            carry=1\n",
    "        else:\n",
    "            carry=0\n",
    "        result[i]=tot%10\n",
    "    if carry==1:\n",
    "        result=[1]+ result\n",
    "    print(result)   "
   ]
  },
  {
   "cell_type": "code",
   "execution_count": null,
   "metadata": {},
   "outputs": [],
   "source": [
    "add_one([8,9,9,9]) # [3,5,7]"
   ]
  },
  {
   "cell_type": "code",
   "execution_count": null,
   "metadata": {},
   "outputs": [],
   "source": [
    "a=[1,2,4]\n",
    "b=[3,5,6,7]\n",
    "c=a+b\n",
    "c"
   ]
  },
  {
   "cell_type": "code",
   "execution_count": 13,
   "metadata": {},
   "outputs": [
    {
     "ename": "SyntaxError",
     "evalue": "invalid syntax (<ipython-input-13-44877b9ba920>, line 14)",
     "output_type": "error",
     "traceback": [
      "\u001b[0;36m  File \u001b[0;32m\"<ipython-input-13-44877b9ba920>\"\u001b[0;36m, line \u001b[0;32m14\u001b[0m\n\u001b[0;31m    print(str(s[i]) == str(s[ln-i-1]);\u001b[0m\n\u001b[0m                                     ^\u001b[0m\n\u001b[0;31mSyntaxError\u001b[0m\u001b[0;31m:\u001b[0m invalid syntax\n"
     ]
    }
   ],
   "source": [
    "#!/bin/python3\n",
    "\n",
    "import math\n",
    "import os\n",
    "import random\n",
    "import re\n",
    "import sys\n",
    "\n",
    "# Complete the isBalanced function below.\n",
    "def isBalanced(s):\n",
    "    pairs = {\"{\": \"}\", \"(\": \")\", \"[\": \"]\"}\n",
    "    stack = []\n",
    "    for c in s:\n",
    "        if c in \"{[(\":\n",
    "            stack.append(c)\n",
    "        elif stack and c == pairs[stack[-1]]:\n",
    "            stack.pop()\n",
    "        else:\n",
    "            return 'NO'\n",
    "\n",
    "        if len(stack) == 0:\n",
    "            return 'YES'\n",
    "  \n",
    "\n",
    "if __name__ == '__main__':\n",
    "    fptr = open(os.environ['OUTPUT_PATH'], 'w')\n",
    "\n",
    "    t = int(input())\n",
    "\n",
    "    for t_itr in range(t):\n",
    "        s = input()\n",
    "\n",
    "        result = isBalanced(s)\n",
    "\n",
    "        fptr.write(result + '\\n')\n",
    "\n",
    "    fptr.close()\n"
   ]
  },
  {
   "cell_type": "code",
   "execution_count": 12,
   "metadata": {},
   "outputs": [
    {
     "ename": "SyntaxError",
     "evalue": "invalid syntax (<ipython-input-12-c411d1a010ec>, line 3)",
     "output_type": "error",
     "traceback": [
      "\u001b[0;36m  File \u001b[0;32m\"<ipython-input-12-c411d1a010ec>\"\u001b[0;36m, line \u001b[0;32m3\u001b[0m\n\u001b[0;31m    {[(])}\u001b[0m\n\u001b[0m       ^\u001b[0m\n\u001b[0;31mSyntaxError\u001b[0m\u001b[0;31m:\u001b[0m invalid syntax\n"
     ]
    }
   ],
   "source": [
    "\n",
    "\n",
    "3\n",
    "{[()]}\n",
    "{[(])}\n",
    "{{[[(())]]}}"
   ]
  },
  {
   "cell_type": "code",
   "execution_count": 46,
   "metadata": {},
   "outputs": [
    {
     "name": "stdout",
     "output_type": "stream",
     "text": [
      "2 largest element is 80\n"
     ]
    }
   ],
   "source": [
    "class BinaryTreeNode(object):\n",
    "    # Iniliase the node object\n",
    "    def __init__(self, value):\n",
    "        self.value = value\n",
    "        self.left  = None\n",
    "        self.right = None\n",
    "# Function to insert the node values        \n",
    "def insert_node(node,eleValue):\n",
    "    if node == None:\n",
    "        return BinaryTreeNode(eleValue)\n",
    "    if eleValue < node.value:\n",
    "        node.left = insert_node(node.left, eleValue)\n",
    "    elif eleValue > node.value:\n",
    "            node.right = insert_node(node.right, eleValue)\n",
    "    return node\n",
    "#Function to get the 2nd largest element\n",
    "def nth_largest(root,c):\n",
    "    if root == None or c[0] >= 2:  \n",
    "        return\n",
    "    # Revvers order traversal  \n",
    "    #print(root.value)\n",
    "    nth_largest(root.right, c) \n",
    "   \n",
    "    # Counter increase of nodes \n",
    "    c[0] += 1\n",
    "  \n",
    "    # If c becomes nth then this is the 2nd largest element \n",
    "    if c[0] == 2: \n",
    "        print(c[0], \"largest element is\",  root.value)  \n",
    "        return\n",
    "  \n",
    "    # Recur for left subtree\n",
    "     # nth_largest(root.left, c) \n",
    "        \n",
    "# Main function for BST nth hight element\n",
    "# BST\n",
    "#          40\n",
    "#        /    \\\n",
    "#     20       50\n",
    "#   /   \\     /   \\\n",
    "# 70     80  100   55\n",
    "if __name__ == '__main__':\n",
    "    \n",
    "    root = None\n",
    "    root = insert_node(root,40)\n",
    "    insert_node(root,20)\n",
    "    insert_node(root,50)\n",
    "    insert_node(root,70)\n",
    "    insert_node(root,80)\n",
    "    insert_node(root,100)\n",
    "    insert_node(root,55)\n",
    "    # Function to find the nth largest value\n",
    "    c =[0] # iniliase the counter of node as [0]\n",
    "    # Call the function to get the nth largest element\n",
    "    nth_largest(root,c)\n",
    "    "
   ]
  },
  {
   "cell_type": "code",
   "execution_count": null,
   "metadata": {},
   "outputs": [],
   "source": []
  },
  {
   "cell_type": "code",
   "execution_count": null,
   "metadata": {},
   "outputs": [],
   "source": []
  }
 ],
 "metadata": {
  "kernelspec": {
   "display_name": "Python 3",
   "language": "python",
   "name": "python3"
  },
  "language_info": {
   "codemirror_mode": {
    "name": "ipython",
    "version": 3
   },
   "file_extension": ".py",
   "mimetype": "text/x-python",
   "name": "python",
   "nbconvert_exporter": "python",
   "pygments_lexer": "ipython3",
   "version": "3.7.3"
  },
  "widgets": {
   "application/vnd.jupyter.widget-state+json": {
    "state": {},
    "version_major": 2,
    "version_minor": 0
   }
  }
 },
 "nbformat": 4,
 "nbformat_minor": 2
}
